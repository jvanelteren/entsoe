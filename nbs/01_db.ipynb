{
 "cells": [
  {
   "attachments": {},
   "cell_type": "markdown",
   "metadata": {},
   "source": [
    "# API\n",
    "\n",
    "> Module to get data"
   ]
  },
  {
   "cell_type": "code",
   "execution_count": 53,
   "metadata": {},
   "outputs": [],
   "source": [
    "#| default_exp db"
   ]
  },
  {
   "cell_type": "code",
   "execution_count": 13,
   "metadata": {},
   "outputs": [
    {
     "data": {
      "text/plain": [
       "1920"
      ]
     },
     "execution_count": 13,
     "metadata": {},
     "output_type": "execute_result"
    }
   ],
   "source": [
    "# | exporti\n",
    "import sqlite3\n",
    "from sqlite3 import Error\n",
    "import pandas as pd"
   ]
  },
  {
   "cell_type": "code",
   "execution_count": 39,
   "metadata": {},
   "outputs": [],
   "source": [
    "# | export\n",
    "def create_connection(db_file):\n",
    "    conn = None\n",
    "    try:\n",
    "        conn = sqlite3.connect(db_file)\n",
    "        return conn\n",
    "    except Error as e:\n",
    "        print(e)\n"
   ]
  },
  {
   "cell_type": "code",
   "execution_count": null,
   "metadata": {},
   "outputs": [],
   "source": [
    "# | export\n",
    "def len(conn, table):\n",
    "    return do(conn, f\"SELECT COUNT(*) FROM {table}\")\n",
    "\n",
    "def first(conn, table):\n",
    "    return do(conn, f\"SELECT * FROM {table} LIMIT 5\")\n",
    "\n"
   ]
  },
  {
   "cell_type": "code",
   "execution_count": null,
   "metadata": {},
   "outputs": [],
   "source": [
    "# | export\n",
    "def do(conn, ins):\n",
    "    cur =  conn.cursor()\n",
    "    res = cur.execute(ins).fetchall()\n",
    "    cur.close()\n",
    "    return res\n",
    "\n",
    "def do_special(conn, ins):\n",
    "    cur = conn.cursor()\n",
    "    cur.execute(ins)\n",
    "    conn.commit()\n",
    "    cur.close()\n",
    "    \n",
    "def do_df(conn, ins):\n",
    "    cur = conn.cursor().execute(ins)\n",
    "    col_name_list = [tuple[0] for tuple in cur.description]\n",
    "    res = pd.DataFrame(cur.fetchall(), columns=col_name_list)\n",
    "    cur.close()\n",
    "    return res\n"
   ]
  },
  {
   "cell_type": "code",
   "execution_count": null,
   "metadata": {},
   "outputs": [],
   "source": [
    "# | export\n",
    "def create_table(conn, create_table_sql):\n",
    "    try:\n",
    "        c = conn.cursor()\n",
    "        c.execute(create_table_sql)\n",
    "        conn.commit()\n",
    "    except Error as e:\n",
    "        print(e)\n"
   ]
  },
  {
   "cell_type": "code",
   "execution_count": null,
   "metadata": {},
   "outputs": [],
   "source": [
    "\n",
    "def insert_scores(conn, scores):\n",
    "    sql = \"\"\" INSERT OR IGNORE INTO scores (year, day, star, position, points, time, user, aocplus)\n",
    "              VALUES(?,?,?,?,?,?,?,?) \"\"\"\n",
    "    cur = conn.cursor()\n",
    "    cur.executemany(sql,scores)\n",
    "    print(f'{cur.rowcount} items inserted')\n",
    "    conn.commit()\n"
   ]
  },
  {
   "cell_type": "code",
   "execution_count": null,
   "metadata": {},
   "outputs": [],
   "source": [
    "def del_all_records(conn):\n",
    "    cur = conn.cursor()\n",
    "    cur.execute(\"DROP TABLE IF EXISTS scores\")\n",
    "    cur.execute(\"DROP TABLE IF EXISTS finishers\")\n",
    "    cur.execute(\"DROP TABLE IF EXISTS personal\")\n",
    "    conn.commit()\n"
   ]
  },
  {
   "cell_type": "code",
   "execution_count": null,
   "metadata": {},
   "outputs": [],
   "source": [
    "def open_db(name):\n",
    "    sql_create_table_scores = \"\"\" CREATE TABLE IF NOT EXISTS \"scores\"(\n",
    "                                        \"id\" INTEGER PRIMARY KEY,\n",
    "                                        \"year\" INTEGER,\n",
    "                                        \"day\" INTEGER,\n",
    "                                        \"star\" INTEGER,\n",
    "                                        \"position\" INTEGER,\n",
    "                                        \"points\" INTEGER,\n",
    "                                        \"time\" INTEGER,\n",
    "                                        \"user\" VARCHAR(100),\n",
    "                                        \"aocplus\" VARCHAR(100),\n",
    "                                        UNIQUE(year, day, star, position)\n",
    "                                        );\n",
    "                                        \"\"\"\n",
    "\n",
    "    sql_create_table_finishers = \"\"\" CREATE TABLE IF NOT EXISTS \"finishers\"(\n",
    "                                        \"id\" INTEGER PRIMARY KEY,\n",
    "                                        \"year\" INTEGER,\n",
    "                                        \"day\" INTEGER,\n",
    "                                        \"first\" INTEGER,\n",
    "                                        \"both\" INTEGER\n",
    "                                        );\n",
    "                                 \"\"\"\n",
    "\n",
    "    sql_create_table_personal = \"\"\" CREATE TABLE IF NOT EXISTS \"personal\"(\n",
    "                                        \"id\" INTEGER PRIMARY KEY,\n",
    "                                        \"year\" INTEGER,\n",
    "                                        \"day\" INTEGER,\n",
    "                                        \"star\" INTEGER,\n",
    "                                        \"position\" INTEGER,\n",
    "                                        \"time\" INTEGER,\n",
    "                                        UNIQUE(year, day, star)\n",
    "                                        );\n",
    "                                 \"\"\"\n",
    "\n",
    "    conn = create_con(name)\n",
    "\n",
    "    if conn:\n",
    "        create_table(conn, sql_create_table_scores)\n",
    "        create_table(conn, sql_create_table_finishers)\n",
    "        create_table(conn, sql_create_table_personal)\n",
    "    return conn\n"
   ]
  },
  {
   "cell_type": "code",
   "execution_count": null,
   "metadata": {},
   "outputs": [],
   "source": []
  }
 ],
 "metadata": {
  "kernelspec": {
   "display_name": ".aocenvpy311",
   "language": "python",
   "name": "python3"
  },
  "language_info": {
   "codemirror_mode": {
    "name": "ipython",
    "version": 3
   },
   "file_extension": ".py",
   "mimetype": "text/x-python",
   "name": "python",
   "nbconvert_exporter": "python",
   "pygments_lexer": "ipython3",
   "version": "3.11.0 (main, Oct 24 2022, 18:26:48) [MSC v.1933 64 bit (AMD64)]"
  },
  "vscode": {
   "interpreter": {
    "hash": "7b5336723abeab741c71fcc933eb6e6f53a288e70399d841fc0756db1169ea34"
   }
  }
 },
 "nbformat": 4,
 "nbformat_minor": 4
}
